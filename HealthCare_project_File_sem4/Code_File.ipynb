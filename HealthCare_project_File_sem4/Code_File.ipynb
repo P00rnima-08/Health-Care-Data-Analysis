{
 "cells": [
  {
   "cell_type": "code",
   "execution_count": 1,
   "id": "45de6c3c",
   "metadata": {},
   "outputs": [],
   "source": [
    "import csv\n",
    "import pandas as pd\n",
    "import numpy as np\n",
    "from collections import defaultdict\n",
    "import seaborn as sns\n",
    "import matplotlib.pyplot as plt\n",
    "%matplotlib inline"
   ]
  },
  {
   "cell_type": "code",
   "execution_count": 3,
   "id": "bfaa35d5",
   "metadata": {},
   "outputs": [
    {
     "name": "stdout",
     "output_type": "stream",
     "text": [
      "Failed with encoding: utf-8\n",
      "Successfully read with encoding: ISO-8859-1\n"
     ]
    }
   ],
   "source": [
    "encodings = ['utf-8', 'ISO-8859-1', 'latin1', 'cp1252']\n",
    "for encoding in encodings:\n",
    "    try:\n",
    "        df = pd.read_csv(\"dataset_uncleaned.csv\", encoding=encoding)\n",
    "        print(f\"Successfully read with encoding: {encoding}\")\n",
    "        break\n",
    "    except UnicodeDecodeError:\n",
    "        print(f\"Failed with encoding: {encoding}\")"
   ]
  },
  {
   "cell_type": "code",
   "execution_count": 5,
   "id": "cc1bae3a",
   "metadata": {},
   "outputs": [],
   "source": [
    "df = pd.read_csv('dataset_uncleaned.csv',encoding='ISO-8859-1')"
   ]
  },
  {
   "cell_type": "code",
   "execution_count": 6,
   "id": "b0288bf4",
   "metadata": {},
   "outputs": [
    {
     "data": {
      "text/html": [
       "<div>\n",
       "<style scoped>\n",
       "    .dataframe tbody tr th:only-of-type {\n",
       "        vertical-align: middle;\n",
       "    }\n",
       "\n",
       "    .dataframe tbody tr th {\n",
       "        vertical-align: top;\n",
       "    }\n",
       "\n",
       "    .dataframe thead th {\n",
       "        text-align: right;\n",
       "    }\n",
       "</style>\n",
       "<table border=\"1\" class=\"dataframe\">\n",
       "  <thead>\n",
       "    <tr style=\"text-align: right;\">\n",
       "      <th></th>\n",
       "      <th>Disease</th>\n",
       "      <th>Count of Disease Occurrence</th>\n",
       "      <th>Symptom</th>\n",
       "    </tr>\n",
       "  </thead>\n",
       "  <tbody>\n",
       "    <tr>\n",
       "      <th>0</th>\n",
       "      <td>UMLS:C0020538_hypertensive disease</td>\n",
       "      <td>3363.0</td>\n",
       "      <td>UMLS:C0008031_pain chest</td>\n",
       "    </tr>\n",
       "    <tr>\n",
       "      <th>1</th>\n",
       "      <td>NaN</td>\n",
       "      <td>NaN</td>\n",
       "      <td>UMLS:C0392680_shortness of breath</td>\n",
       "    </tr>\n",
       "    <tr>\n",
       "      <th>2</th>\n",
       "      <td>NaN</td>\n",
       "      <td>NaN</td>\n",
       "      <td>UMLS:C0012833_dizziness</td>\n",
       "    </tr>\n",
       "    <tr>\n",
       "      <th>3</th>\n",
       "      <td>NaN</td>\n",
       "      <td>NaN</td>\n",
       "      <td>UMLS:C0004093_asthenia</td>\n",
       "    </tr>\n",
       "    <tr>\n",
       "      <th>4</th>\n",
       "      <td>NaN</td>\n",
       "      <td>NaN</td>\n",
       "      <td>UMLS:C0085639_fall</td>\n",
       "    </tr>\n",
       "  </tbody>\n",
       "</table>\n",
       "</div>"
      ],
      "text/plain": [
       "                              Disease  Count of Disease Occurrence  \\\n",
       "0  UMLS:C0020538_hypertensive disease                       3363.0   \n",
       "1                                 NaN                          NaN   \n",
       "2                                 NaN                          NaN   \n",
       "3                                 NaN                          NaN   \n",
       "4                                 NaN                          NaN   \n",
       "\n",
       "                             Symptom  \n",
       "0           UMLS:C0008031_pain chest  \n",
       "1  UMLS:C0392680_shortness of breath  \n",
       "2            UMLS:C0012833_dizziness  \n",
       "3             UMLS:C0004093_asthenia  \n",
       "4                 UMLS:C0085639_fall  "
      ]
     },
     "execution_count": 6,
     "metadata": {},
     "output_type": "execute_result"
    }
   ],
   "source": [
    "df.head()"
   ]
  },
  {
   "cell_type": "code",
   "execution_count": 7,
   "id": "e74eea05",
   "metadata": {},
   "outputs": [],
   "source": [
    "data = df.fillna(method='ffill')"
   ]
  },
  {
   "cell_type": "code",
   "execution_count": 8,
   "id": "782a4001",
   "metadata": {},
   "outputs": [
    {
     "data": {
      "text/html": [
       "<div>\n",
       "<style scoped>\n",
       "    .dataframe tbody tr th:only-of-type {\n",
       "        vertical-align: middle;\n",
       "    }\n",
       "\n",
       "    .dataframe tbody tr th {\n",
       "        vertical-align: top;\n",
       "    }\n",
       "\n",
       "    .dataframe thead th {\n",
       "        text-align: right;\n",
       "    }\n",
       "</style>\n",
       "<table border=\"1\" class=\"dataframe\">\n",
       "  <thead>\n",
       "    <tr style=\"text-align: right;\">\n",
       "      <th></th>\n",
       "      <th>Disease</th>\n",
       "      <th>Count of Disease Occurrence</th>\n",
       "      <th>Symptom</th>\n",
       "    </tr>\n",
       "  </thead>\n",
       "  <tbody>\n",
       "    <tr>\n",
       "      <th>0</th>\n",
       "      <td>UMLS:C0020538_hypertensive disease</td>\n",
       "      <td>3363.0</td>\n",
       "      <td>UMLS:C0008031_pain chest</td>\n",
       "    </tr>\n",
       "    <tr>\n",
       "      <th>1</th>\n",
       "      <td>UMLS:C0020538_hypertensive disease</td>\n",
       "      <td>3363.0</td>\n",
       "      <td>UMLS:C0392680_shortness of breath</td>\n",
       "    </tr>\n",
       "    <tr>\n",
       "      <th>2</th>\n",
       "      <td>UMLS:C0020538_hypertensive disease</td>\n",
       "      <td>3363.0</td>\n",
       "      <td>UMLS:C0012833_dizziness</td>\n",
       "    </tr>\n",
       "    <tr>\n",
       "      <th>3</th>\n",
       "      <td>UMLS:C0020538_hypertensive disease</td>\n",
       "      <td>3363.0</td>\n",
       "      <td>UMLS:C0004093_asthenia</td>\n",
       "    </tr>\n",
       "    <tr>\n",
       "      <th>4</th>\n",
       "      <td>UMLS:C0020538_hypertensive disease</td>\n",
       "      <td>3363.0</td>\n",
       "      <td>UMLS:C0085639_fall</td>\n",
       "    </tr>\n",
       "  </tbody>\n",
       "</table>\n",
       "</div>"
      ],
      "text/plain": [
       "                              Disease  Count of Disease Occurrence  \\\n",
       "0  UMLS:C0020538_hypertensive disease                       3363.0   \n",
       "1  UMLS:C0020538_hypertensive disease                       3363.0   \n",
       "2  UMLS:C0020538_hypertensive disease                       3363.0   \n",
       "3  UMLS:C0020538_hypertensive disease                       3363.0   \n",
       "4  UMLS:C0020538_hypertensive disease                       3363.0   \n",
       "\n",
       "                             Symptom  \n",
       "0           UMLS:C0008031_pain chest  \n",
       "1  UMLS:C0392680_shortness of breath  \n",
       "2            UMLS:C0012833_dizziness  \n",
       "3             UMLS:C0004093_asthenia  \n",
       "4                 UMLS:C0085639_fall  "
      ]
     },
     "execution_count": 8,
     "metadata": {},
     "output_type": "execute_result"
    }
   ],
   "source": [
    "data.head()"
   ]
  },
  {
   "cell_type": "code",
   "execution_count": 13,
   "id": "cfe6adf1",
   "metadata": {
    "scrolled": true
   },
   "outputs": [],
   "source": [
    "def process_data(data):\n",
    "   data_list = []\n",
    "   data_name = data.replace('^','_').split('_')\n",
    "   n = 1\n",
    "   for names in data_name:\n",
    "    if (n % 2 == 0):\n",
    "      data_list.append(names)\n",
    "      n += 1\n",
    "    return data_list"
   ]
  },
  {
   "cell_type": "code",
   "execution_count": 14,
   "id": "4265916c",
   "metadata": {},
   "outputs": [],
   "source": [
    "disease_list = []\n",
    "disease_symptom_dict = defaultdict(list)\n",
    "disease_symptom_count = {}\n",
    "count = 0"
   ]
  },
  {
   "cell_type": "code",
   "execution_count": 16,
   "id": "452c00f6",
   "metadata": {},
   "outputs": [],
   "source": [
    "for idx, row in data.iterrows():\n",
    "\n",
    "      # Get the Disease Names\n",
    "    if (row['Disease'] !=\"\\xc2\\xa0\") and (row['Disease'] != \"\"):\n",
    "       disease = row['Disease']\n",
    "       disease_list = process_data(data=disease)\n",
    "       count = row['Count of Disease Occurrence']"
   ]
  },
  {
   "cell_type": "code",
   "execution_count": 23,
   "id": "dac84b1a",
   "metadata": {},
   "outputs": [],
   "source": [
    "# Get the Symptoms Corresponding to Diseases\n",
    "if(row['Symptom'] !=\"\\xc2\\xa0\") and (row['Symptom'] != \"\"):\n",
    "    symptom = row['Symptom']\n",
    "    symptom_list = process_data(data=symptom)\n",
    "    for d in disease_list:\n",
    "        for s in symptom_list:\n",
    "                disease_symptom_dict[d].append(s)\n",
    "        disease_symptom_count[d] = count\n"
   ]
  },
  {
   "cell_type": "code",
   "execution_count": 24,
   "id": "b0fe0456",
   "metadata": {},
   "outputs": [
    {
     "data": {
      "text/plain": [
       "defaultdict(list, {})"
      ]
     },
     "execution_count": 24,
     "metadata": {},
     "output_type": "execute_result"
    }
   ],
   "source": [
    "disease_symptom_dict"
   ]
  },
  {
   "cell_type": "code",
   "execution_count": 25,
   "id": "7948c8a0",
   "metadata": {},
   "outputs": [
    {
     "data": {
      "text/plain": [
       "{}"
      ]
     },
     "execution_count": 25,
     "metadata": {},
     "output_type": "execute_result"
    }
   ],
   "source": [
    "disease_symptom_count"
   ]
  },
  {
   "cell_type": "code",
   "execution_count": 28,
   "id": "0f8cb9cf",
   "metadata": {},
   "outputs": [],
   "source": [
    "f = open('dataset_clean.csv', 'w')\n",
    "with f:\n",
    "    writer = csv.writer(f)\n",
    "    for key, val in disease_symptom_dict.items():\n",
    "            for i in range(len(val)):\n",
    "                writer.writerow([key, val[i], disease_symptom_count[key]])"
   ]
  },
  {
   "cell_type": "code",
   "execution_count": 36,
   "id": "1432c3b8",
   "metadata": {},
   "outputs": [
    {
     "data": {
      "text/html": [
       "<div>\n",
       "<style scoped>\n",
       "    .dataframe tbody tr th:only-of-type {\n",
       "        vertical-align: middle;\n",
       "    }\n",
       "\n",
       "    .dataframe tbody tr th {\n",
       "        vertical-align: top;\n",
       "    }\n",
       "\n",
       "    .dataframe thead th {\n",
       "        text-align: right;\n",
       "    }\n",
       "</style>\n",
       "<table border=\"1\" class=\"dataframe\">\n",
       "  <thead>\n",
       "    <tr style=\"text-align: right;\">\n",
       "      <th></th>\n",
       "      <th>Source</th>\n",
       "      <th>Target</th>\n",
       "      <th>Weight</th>\n",
       "    </tr>\n",
       "  </thead>\n",
       "  <tbody>\n",
       "    <tr>\n",
       "      <th>0</th>\n",
       "      <td>depression mental</td>\n",
       "      <td>feeling suicidal</td>\n",
       "      <td>1337</td>\n",
       "    </tr>\n",
       "    <tr>\n",
       "      <th>1</th>\n",
       "      <td>depression mental</td>\n",
       "      <td>suicidal</td>\n",
       "      <td>1337</td>\n",
       "    </tr>\n",
       "    <tr>\n",
       "      <th>2</th>\n",
       "      <td>depression mental</td>\n",
       "      <td>hallucinations auditory</td>\n",
       "      <td>1337</td>\n",
       "    </tr>\n",
       "    <tr>\n",
       "      <th>3</th>\n",
       "      <td>depression mental</td>\n",
       "      <td>feeling hopeless</td>\n",
       "      <td>1337</td>\n",
       "    </tr>\n",
       "    <tr>\n",
       "      <th>4</th>\n",
       "      <td>depression mental</td>\n",
       "      <td>weepiness</td>\n",
       "      <td>1337</td>\n",
       "    </tr>\n",
       "  </tbody>\n",
       "</table>\n",
       "</div>"
      ],
      "text/plain": [
       "              Source                   Target  Weight\n",
       "0  depression mental         feeling suicidal    1337\n",
       "1  depression mental                 suicidal    1337\n",
       "2  depression mental  hallucinations auditory    1337\n",
       "3  depression mental         feeling hopeless    1337\n",
       "4  depression mental                weepiness    1337"
      ]
     },
     "execution_count": 36,
     "metadata": {},
     "output_type": "execute_result"
    }
   ],
   "source": [
    "df = pd.read_csv('dataset_clean.csv',encoding='ISO-8859-1')\n",
    "df.columns = ['Source','Target','Weight']\n",
    "df.head()"
   ]
  },
  {
   "cell_type": "code",
   "execution_count": 37,
   "id": "f1d34ad4",
   "metadata": {},
   "outputs": [],
   "source": [
    "# Remove any rows with empty values\n",
    "df.replace(float('nan'), np.nan, inplace=True)\n",
    "df.dropna(inplace=True)"
   ]
  },
  {
   "cell_type": "code",
   "execution_count": 41,
   "id": "22fe3ff5",
   "metadata": {},
   "outputs": [
    {
     "name": "stdout",
     "output_type": "stream",
     "text": [
      "[120 353 147 ... 384 304  24]\n"
     ]
    }
   ],
   "source": [
    "from sklearn import preprocessing\n",
    "n_unique = len(df['symptom'].unique())\n",
    "n_unique\n",
    "df.dtypes\n",
    "# Encode the Labels\n",
    "from sklearn.preprocessing import LabelEncoder\n",
    "from sklearn.preprocessing import OneHotEncoder\n",
    "label_encoder = LabelEncoder()\n",
    "integer_encoded = label_encoder.fit_transform(df['symptom'])\n",
    "print(integer_encoded)"
   ]
  },
  {
   "cell_type": "code",
   "execution_count": 42,
   "id": "922c69b7",
   "metadata": {},
   "outputs": [
    {
     "name": "stdout",
     "output_type": "stream",
     "text": [
      "[[0. 0. 0. ... 0. 0. 0.]\n",
      " [0. 0. 0. ... 0. 0. 0.]\n",
      " [0. 0. 0. ... 0. 0. 0.]\n",
      " ...\n",
      " [0. 0. 0. ... 0. 0. 0.]\n",
      " [0. 0. 0. ... 0. 0. 0.]\n",
      " [0. 0. 0. ... 0. 0. 0.]]\n"
     ]
    },
    {
     "data": {
      "text/plain": [
       "array(['feeling suicidal', 'suicidal', 'hallucinations auditory',\n",
       "       'feeling hopeless', 'weepiness', 'sleeplessness',\n",
       "       'motor retardation', 'irritable mood', 'blackout',\n",
       "       'mood depressed', 'hallucinations visual', 'worry', 'agitation',\n",
       "       'tremor', 'intoxication', 'verbal auditory hallucinations',\n",
       "       'energy increased', 'difficulty', 'nightmare',\n",
       "       'unable to concentrate', 'homelessness', 'thicken',\n",
       "       'tumor cell invasion', 'metastatic lesion', 'pain neck',\n",
       "       'lung nodule', 'pain', 'pain abdominal', 'food intolerance',\n",
       "       'mass of body structure', 'atypia', 'shortness of breath',\n",
       "       'prostatism', 'drowsiness', 'sleepy', 'hyponatremia', 'fall',\n",
       "       'unsteady gait', 'polyuria', 'hypotension', 'syncope',\n",
       "       'speech slurred', 'weight gain', 'asthenia', 'fatigue', 'tired',\n",
       "       'mental status changes', 'vomiting', 'numbness', 'hematuria',\n",
       "       'dysesthesia', 'polymyalgia', 'passed stones', 'pleuritic pain',\n",
       "       'guaiac positive', 'rale', 'breath sounds decreased',\n",
       "       'urge incontinence', 'dysuria', 'diarrhea', 'vertigo',\n",
       "       'qt interval prolonged', 'ataxia', 'paresis',\n",
       "       'hemianopsia homonymous', 'hemodynamically stable', 'rhonchus',\n",
       "       'orthostasis', 'decreased body weight', 'chill', 'monoclonal',\n",
       "       'ecchymosis', 'haemorrhage', 'pallor', 'heme positive',\n",
       "       'pain back', 'dizziness', 'arthralgia', 'swelling',\n",
       "       'transaminitis', 'nausea', 'cushingoid facies',\n",
       "       'cushingoid\\xa0habitus', 'ascites', 'sore to touch', 'apyrexial',\n",
       "       'palpitation', 'splenomegaly', 'pruritus', 'distended abdomen',\n",
       "       'lesion', 'bleeding of vagina', 'dyspnea',\n",
       "       'cardiovascular finding', 'cardiovascular event', 'haemoptysis',\n",
       "       'cough', 'hypercapnia', 'soft tissue swelling', 'ambidexterity',\n",
       "       'fever', 'stool color yellow',\n",
       "       'rigor - temperature-associated observation', 'night sweat',\n",
       "       'spontaneous rupture of membranes', nan, 'patient non compliance',\n",
       "       'tachypnea', 'productive cough', 'muscle hypotonia', 'hypotonic',\n",
       "       'has religious belief', 'disturbed family', 'behavior hyperactive',\n",
       "       'catatonia', 'hypersomnia', 'hyperhidrosis disorder', 'mydriasis',\n",
       "       'extrapyramidal sign', 'loose associations', 'exhaustion',\n",
       "       'unresponsiveness', 'hypothermia, natural', 'incoherent',\n",
       "       'lameness', 'claudication', 'unconscious state', 'clammy skin',\n",
       "       'distress respiratory', 'ache', 'macerated skin', 'heavy feeling',\n",
       "       'asterixis', 'constipation', 'general discomfort',\n",
       "       'urinary hesitation', 'dizzy spells', 'shooting pain',\n",
       "       'bradycardia', 'systolic ejection murmur', 'hyperemesis',\n",
       "       'polydypsia', 'paresthesia', 'titubation', 'dysarthria',\n",
       "       'painful swallowing', 'hoarseness', 'stridor', 'spasm',\n",
       "       'dysdiadochokinesia', 'achalasia', 'stiffness', 'side pain',\n",
       "       'emphysematous change', 'welt', 'tinnitus', 'hydropneumothorax',\n",
       "       'superimposition', 'difficulty passing urine', 'seizure',\n",
       "       'enuresis', 'lethargy', 'consciousness clear', 'muscle twitch',\n",
       "       'headache', 'lightheadedness', 'out of breath', 'sedentary',\n",
       "       'angina pectoris', 'unhappy', 'labored breathing',\n",
       "       'hematocrit decreased', 'wheezing', 'hypoxemia',\n",
       "       'renal angle tenderness', 'feels hot/feverish',\n",
       "       'general unsteadiness', 'facial paresis', 'hemiplegia',\n",
       "       'dyspnea on exertion', 'asymptomatic', 'hypokinesia',\n",
       "       'left\\xa0atrial\\xa0hypertrophy', 'cardiomegaly',\n",
       "       'chest discomfort', 'urgency of\\xa0micturition', 'orthopnea',\n",
       "       \"Heberden's node\", 'jugular venous distention', 'sweat',\n",
       "       'sweating increased', 'hyperkalemia', 'sinus rhythm', 'pain chest',\n",
       "       'feeling strange', 'pustule', 'estrogen use', 'hypometabolism',\n",
       "       'aura', 'myoclonus', 'gurgle', 'wheelchair bound', 'yellow sputum',\n",
       "       'cachexia', 'myalgia', 'neck stiffness', 'hacking cough',\n",
       "       'dyspareunia', 'hypokalemia', 'poor dentition',\n",
       "       'non-productive cough', 'floppy', 'mediastinal shift', 'clonus',\n",
       "       'decreased translucency', 'extreme exhaustion', 'stupor',\n",
       "       'pressure chest', 'chest tightness', 'nausea and vomiting',\n",
       "       'awakening early', 'fatigability', 'tenesmus',\n",
       "       'slowing of urinary stream', 'monocytosis',\n",
       "       'posterior\\xa0rhinorrhea', 'fremitus', 'decreased stool caliber',\n",
       "       'satiety early', 'hematochezia', 'egophony', 'cicatrisation',\n",
       "       'scar tissue', 'paraparesis', 'moody', 'fear of falling',\n",
       "       'breech presentation', 'cyanosis', 'abscess bacterial',\n",
       "       'abdomen acute', 'air fluid level', 'catching breath',\n",
       "       'abdominal tenderness', 'flatulence', 'gravida 0', 'throat sore',\n",
       "       'hepatosplenomegaly', 'snuffle', 'hoard', 'neologism', 'panic',\n",
       "       'lip smacking', 'phonophobia', 'rolling of eyes', 'hirsutism',\n",
       "       'absences finding', 'fecaluria', 'projectile vomiting',\n",
       "       'pneumatouria', 'cystic lesion', 'anorexia', 'hunger',\n",
       "       'nervousness', 'aphagia', 'focal seizures', 'abnormal sensation',\n",
       "       \"Stahli's line\", 'stinging sensation', 'paralyse', 'hot flush',\n",
       "       'redness', 'erythema', 'hypocalcemia result', 'oliguria',\n",
       "       'rhd positive', 'heartburn', 'heavy legs', 'drool',\n",
       "       'pin-point pupils', 'bedridden', 'frail', 'tremor resting',\n",
       "       'groggy', 'impaired cognition', 'macule', 'photophobia',\n",
       "       'scratch marks', 'sniffle', 'numbness of hand', 'bradykinesia',\n",
       "       'unwell', 'sensory discomfort', 'history of - blackout',\n",
       "       'hyperacusis', 'hepatomegaly', 'breakthrough pain', 'green sputum',\n",
       "       'hypoproteinemia', 'colic abdominal', 'hypertonicity',\n",
       "       'hypoalbuminemia', 'hypersomnolence', 'underweight', 'withdraw',\n",
       "       'terrify', 'decompensation', 'uncoordination', 'posturing',\n",
       "       'tonic seizures', 'debilitation', 'pain in lower limb',\n",
       "       'transsexual', 'nonsmoker', 'prostate tender', 'pain foot',\n",
       "       'mass in breast', 'snore', 'bruit', 'disequilibrium',\n",
       "       'bowel sounds decreased', 'burning sensation',\n",
       "       'verbally abusive behavior', 'adverse reaction', 'adverse effect',\n",
       "       'abdominal bloating', 'no status change', 'pansystolic murmur',\n",
       "       'room spinning', 'indifferent mood', 'st segment depression',\n",
       "       't wave inverted', 'giddy mood', 'homicidal thoughts',\n",
       "       'pulsus\\xa0paradoxus', 'gravida 10', 'dullness', 'milky',\n",
       "       'regurgitates after swallowing', 'vision blurred',\n",
       "       'systolic murmur', 'sciatica', 'frothy sputum', 'rest pain',\n",
       "       'large-for-dates fetus', 'para 1', 'immobile', 'malaise', 'moan',\n",
       "       \"Murphy's sign\", 'gasping for breath', 'feces in rectum',\n",
       "       'abnormally hard consistency', 'stuffy nose', 'presence of q wave',\n",
       "       'photopsia', 'barking cough', 'rapid shallow breathing',\n",
       "       'noisy respiration', 'nasal discharge present',\n",
       "       'symptom aggravating factors', 'retropulsion', 'formication',\n",
       "       'hypesthesia', 'sputum purulent', 'low back pain', 'charleyhorse',\n",
       "       'pericardial friction rub', 'scleral\\xa0icterus', 'nasal flaring',\n",
       "       'sneeze', 'prodrome', 'rambling speech', 'clumsiness', 'flushing',\n",
       "       'urinoma', 'throbbing sensation quality', 'hyperventilation',\n",
       "       'excruciating pain', 'gag', 'pulse absent', 'flare',\n",
       "       'st segment elevation', 'anosmia', 'para 2', 'abortion',\n",
       "       'intermenstrual heavy bleeding', 'previous pregnancies 2',\n",
       "       'primigravida', 'proteinemia', 'breath-holding spell', 'retch',\n",
       "       'no known drug allergies', 'inappropriate affect', 'poor feeding',\n",
       "       'todd paralysis', 'alcoholic withdrawal symptoms', 'red blotches',\n",
       "       'behavior showing increased motor activity',\n",
       "       'coordination abnormal', 'choke', 'alcohol binge episode',\n",
       "       'blanch', 'elation', 'r wave feature', 'overweight'], dtype=object)"
      ]
     },
     "execution_count": 42,
     "metadata": {},
     "output_type": "execute_result"
    }
   ],
   "source": [
    "# One Hot Encode the Labels\n",
    "onehot_encoder = OneHotEncoder(sparse=False)\n",
    "integer_encoded = integer_encoded.reshape(len(integer_encoded), 1)\n",
    "onehot_encoded = onehot_encoder.fit_transform(integer_encoded)\n",
    "print(onehot_encoded)\n",
    "onehot_encoded[0]\n",
    "len(onehot_encoded[0])\n",
    "cols = np.asarray(df['symptom'].unique())\n",
    "cols"
   ]
  },
  {
   "cell_type": "code",
   "execution_count": 43,
   "id": "6d0c8644",
   "metadata": {},
   "outputs": [
    {
     "data": {
      "text/plain": [
       "2129"
      ]
     },
     "execution_count": 43,
     "metadata": {},
     "output_type": "execute_result"
    }
   ],
   "source": [
    "# Create a new dataframe to save OHE labels\n",
    "df_ohe = pd.DataFrame(columns = cols)\n",
    "df_ohe.head()\n",
    "for i in range(len(onehot_encoded)):\n",
    "    df_ohe.loc[i] = onehot_encoded[i]\n",
    "df_ohe.head()\n",
    "len(df_ohe)"
   ]
  },
  {
   "cell_type": "code",
   "execution_count": 44,
   "id": "c3dddda0",
   "metadata": {},
   "outputs": [
    {
     "data": {
      "text/plain": [
       "0    depression mental\n",
       "1    depression mental\n",
       "2    depression mental\n",
       "3    depression mental\n",
       "4    depression mental\n",
       "Name: disease, dtype: object"
      ]
     },
     "execution_count": 44,
     "metadata": {},
     "output_type": "execute_result"
    }
   ],
   "source": [
    "# Disease Dataframe\n",
    "df_disease = df['disease']\n",
    "df_disease.head()"
   ]
  },
  {
   "cell_type": "code",
   "execution_count": 45,
   "id": "67f6c23e",
   "metadata": {},
   "outputs": [],
   "source": [
    "# Concatenate OHE Labels with the Disease Column\n",
    "df_concat = pd.concat([df_disease,df_ohe], axis=1)\n",
    "df_concat.head()\n",
    "df_concat.drop_duplicates(keep='first',inplace=True)\n",
    "df_concat.head()\n",
    "len(df_concat)\n",
    "cols = df_concat.columns\n",
    "cols\n",
    "cols = cols[1:]"
   ]
  },
  {
   "cell_type": "code",
   "execution_count": 46,
   "id": "208f5cd2",
   "metadata": {},
   "outputs": [],
   "source": [
    "# Since, every disease has multiple symptoms, combine all symptoms per disease per\n",
    "row\n",
    "df_concat = df_concat.groupby('disease').sum()\n",
    "df_concat = df_concat.reset_index()\n",
    "df_concat[:5]\n",
    "len(df_concat)\n",
    "df_concat.to_csv(\"training_data.csv\", index=False)"
   ]
  },
  {
   "cell_type": "code",
   "execution_count": 47,
   "id": "7c5dbd84",
   "metadata": {},
   "outputs": [],
   "source": [
    "# One Hot Encoded Features\n",
    "X = df_concat[cols]\n",
    "# Labels\n",
    "y = df_concat['disease']"
   ]
  },
  {
   "cell_type": "code",
   "execution_count": 48,
   "id": "7c59cf00",
   "metadata": {},
   "outputs": [],
   "source": [
    "from sklearn.model_selection import train_test_split\n",
    "from sklearn.naive_bayes import MultinomialNB\n",
    "from sklearn import tree\n",
    "from sklearn.tree import DecisionTreeClassifier, export_graphviz"
   ]
  },
  {
   "cell_type": "code",
   "execution_count": 49,
   "id": "e13bca90",
   "metadata": {},
   "outputs": [],
   "source": [
    "# Train Test Split\n",
    "X_train, X_test, y_train, y_test = train_test_split(X, y, test_size=0.2,\n",
    "random_state=101)"
   ]
  },
  {
   "cell_type": "code",
   "execution_count": 50,
   "id": "d064e1b4",
   "metadata": {},
   "outputs": [
    {
     "name": "stderr",
     "output_type": "stream",
     "text": [
      "C:\\Users\\sreejith\\anaconda3\\lib\\site-packages\\sklearn\\utils\\validation.py:1688: FutureWarning: Feature names only support names that are all strings. Got feature names with dtypes: ['float', 'str']. An error will be raised in 1.2.\n",
      "  warnings.warn(\n",
      "C:\\Users\\sreejith\\anaconda3\\lib\\site-packages\\sklearn\\utils\\validation.py:1688: FutureWarning: Feature names only support names that are all strings. Got feature names with dtypes: ['float', 'str']. An error will be raised in 1.2.\n",
      "  warnings.warn(\n"
     ]
    }
   ],
   "source": [
    "len(X_train), len(y_train)\n",
    "len(X_test), len(y_test)\n",
    "dt = DecisionTreeClassifier()\n",
    "clf_dt=dt.fit(X, y)\n",
    "clf_dt.score(X, y)\n",
    "export_graphviz(dt,\n",
    " out_file='./tree.dot',feature_names=cols)"
   ]
  },
  {
   "cell_type": "code",
   "execution_count": 51,
   "id": "c94495f8",
   "metadata": {},
   "outputs": [
    {
     "name": "stdout",
     "output_type": "stream",
     "text": [
      "Requirement already satisfied: graphviz in c:\\users\\sreejith\\anaconda3\\lib\\site-packages (0.20.3)\n"
     ]
    },
    {
     "name": "stderr",
     "output_type": "stream",
     "text": [
      "\n",
      "[notice] A new release of pip is available: 24.0 -> 24.1.2\n",
      "[notice] To update, run: python.exe -m pip install --upgrade pip\n"
     ]
    }
   ],
   "source": [
    "!pip install graphviz"
   ]
  },
  {
   "cell_type": "code",
   "execution_count": 68,
   "id": "a4fd36f6",
   "metadata": {},
   "outputs": [
    {
     "data": {
      "image/png": "[encoded data removed]",
      "text/plain": [
       "<IPython.core.display.Image object>"
      ]
     },
     "execution_count": 68,
     "metadata": {},
     "output_type": "execute_result"
    }
   ],
   "source": [
    "from IPython.display import Image\n",
    "Image(filename='tree-top5.png')"
   ]
  },
  {
   "cell_type": "code",
   "execution_count": 69,
   "id": "97cc1705",
   "metadata": {},
   "outputs": [
    {
     "name": "stdout",
     "output_type": "stream",
     "text": [
      "Pred: HIV\n",
      "Actual: acquired immuno-deficiency syndrome\n",
      "\n",
      "Pred: biliary calculus\n",
      "Actual: cholelithiasis\n",
      "\n",
      "Pred: coronary arteriosclerosis\n",
      "Actual: coronary heart disease\n",
      "\n",
      "Pred: depression mental\n",
      "Actual: depressive disorder\n",
      "\n",
      "Pred: HIV\n",
      "Actual: hiv infections\n",
      "\n",
      "Pred: carcinoma breast\n",
      "Actual: malignant neoplasm of breast\n",
      "\n",
      "Pred: carcinoma of lung\n",
      "Actual: malignant neoplasm of lung\n",
      "\n",
      "Pred: carcinoma prostate\n",
      "Actual: malignant neoplasm of prostate\n",
      "\n",
      "Pred: carcinoma colon\n",
      "Actual: malignant tumor of colon\n",
      "\n",
      "Pred: candidiasis\n",
      "Actual: oralcandidiasis\n",
      "\n",
      "Pred: effusion pericardial\n",
      "Actual: pericardial effusion body substance\n",
      "\n",
      "Pred: malignant neoplasms\n",
      "Actual: primary malignant neoplasm\n",
      "\n",
      "Pred: sepsis (invertebrate)\n",
      "Actual: septicemia\n",
      "\n",
      "Pred: sepsis (invertebrate)\n",
      "Actual: systemic infection\n",
      "\n",
      "Pred: tonic-clonic epilepsy\n",
      "Actual: tonic-clonic seizures\n",
      "\n"
     ]
    },
    {
     "name": "stderr",
     "output_type": "stream",
     "text": [
      "C:\\Users\\sreejith\\anaconda3\\lib\\site-packages\\sklearn\\utils\\validation.py:1688: FutureWarning: Feature names only support names that are all strings. Got feature names with dtypes: ['float', 'str']. An error will be raised in 1.2.\n",
      "  warnings.warn(\n"
     ]
    }
   ],
   "source": [
    "disease_pred = clf_dt.predict(X)\n",
    "disease_real = y.values\n",
    "for i in range(0, len(disease_real)):\n",
    "    if disease_pred[i]!=disease_real[i]:\n",
    "        print ('Pred: {0}\\nActual: {1}\\n'.format(disease_pred[i], disease_real[i]))"
   ]
  }
 ],
 "metadata": {
  "kernelspec": {
   "display_name": "Python 3 (ipykernel)",
   "language": "python",
   "name": "python3"
  },
  "language_info": {
   "codemirror_mode": {
    "name": "ipython",
    "version": 3
   },
   "file_extension": ".py",
   "mimetype": "text/x-python",
   "name": "python",
   "nbconvert_exporter": "python",
   "pygments_lexer": "ipython3",
   "version": "3.9.13"
  }
 },
 "nbformat": 4,
 "nbformat_minor": 5
}
